{
 "cells": [
  {
   "cell_type": "code",
   "execution_count": 9,
   "id": "2594a5d7",
   "metadata": {},
   "outputs": [
    {
     "name": "stdout",
     "output_type": "stream",
     "text": [
      "Hello: world:This is a test:\n"
     ]
    }
   ],
   "source": [
    "import re\n",
    "def replace_with_colon(text):\n",
    "    pattern = re.compile(r'[,.]')\n",
    "    replaced_text = pattern.sub(':',text)\n",
    "    return replaced_text\n",
    "test_string = \"Hello, world.This is a test.\"\n",
    "result = replace_with_colon(test_string)\n",
    "print(result)"
   ]
  },
  {
   "cell_type": "code",
   "execution_count": 10,
   "id": "d1c32fb0",
   "metadata": {},
   "outputs": [
    {
     "name": "stdout",
     "output_type": "stream",
     "text": [
      "         SUMMARY\n",
      "0    hello world\n",
      "1     XXXXX test\n",
      "2  four five six\n"
     ]
    }
   ],
   "source": [
    "import pandas as pd\n",
    "import re\n",
    "data = {'SUMMARY' : ['hello, world!', 'XXXXX test', '123four, five:; six...']}\n",
    "df = pd.DataFrame(data)\n",
    "def clean_text(text):\n",
    "    # Use regular expression to remove everything except words (letters and spaces)\n",
    "    cleaned_text = re.sub(r'[^a-zA-Z\\s]', '', text)\n",
    "    return cleaned_text\n",
    "df['SUMMARY'] = df['SUMMARY'].apply(clean_text)\n",
    "print(df)\n",
    "\n",
    "\n"
   ]
  },
  {
   "cell_type": "code",
   "execution_count": 14,
   "id": "0db424eb",
   "metadata": {},
   "outputs": [
    {
     "name": "stdout",
     "output_type": "stream",
     "text": [
      "['This', 'example', 'sentence', 'with', 'some', 'long', 'words', 'like', 'elephant', 'programming']\n"
     ]
    }
   ],
   "source": [
    "import re\n",
    "def find_long_words(text):\n",
    "    pattern = re.compile(r'\\b\\w{4,}\\b')\n",
    "    long_words = pattern.findall(text)\n",
    "    return long_words\n",
    "input_text = \"This is an example sentence with some long words like elephant and programming.\"\n",
    "result = find_long_words(input_text)\n",
    "print(result)\n"
   ]
  },
  {
   "cell_type": "code",
   "execution_count": 15,
   "id": "854baf3a",
   "metadata": {},
   "outputs": [
    {
     "name": "stdout",
     "output_type": "stream",
     "text": [
      "['This', 'text', 'with', 'some', 'three', 'four', 'and', 'five', 'words']\n"
     ]
    }
   ],
   "source": [
    "import re\n",
    "def find_specific_length_words(text):\n",
    "    pattern = re.compile(r'\\b\\w{3,5}\\b')\n",
    "    specific_length_words = pattern.findall(text)\n",
    "    return specific_length_words\n",
    "input_text = \"This is an example text with some three, four, and five character words.\"\n",
    "result = find_specific_length_words(input_text)\n",
    "print(result)\n",
    "\n",
    "\n",
    "\n"
   ]
  },
  {
   "cell_type": "code",
   "execution_count": 16,
   "id": "e3703fef",
   "metadata": {},
   "outputs": [
    {
     "name": "stdout",
     "output_type": "stream",
     "text": [
      "['example text', 'another example', 'parentheses to remove']\n"
     ]
    }
   ],
   "source": [
    "import re\n",
    "def remove_parentheses(strings):\n",
    "    pattern = re.compile(r'[()]')\n",
    "    cleaned_strings = [pattern.sub('', s) for s in strings]\n",
    "    return cleaned_strings\n",
    "input_list = [\"example (text)\", \"another (example)\", \"(parentheses) to remove\"]\n",
    "result = remove_parentheses(input_list)\n",
    "print(result)\n",
    "\n",
    "\n"
   ]
  },
  {
   "cell_type": "code",
   "execution_count": 37,
   "id": "fa7497f3",
   "metadata": {},
   "outputs": [],
   "source": [
    "import re\n",
    "def remove_parenthesis_areas(file_path):\n",
    "    pattern = re.compile(r'\\(.*?\\)')\n",
    "    with open(file_path, 'r') as file:\n",
    "        text = file.read()\n",
    "    cleaned_text = pattern.sub('', text)\n",
    "    with open(file_path, 'w') as file:\n",
    "        file.write(cleaned_text)\n",
    "\n",
    "\n",
    "\n",
    "\n"
   ]
  },
  {
   "cell_type": "code",
   "execution_count": 38,
   "id": "7762a583",
   "metadata": {},
   "outputs": [
    {
     "name": "stdout",
     "output_type": "stream",
     "text": [
      "['', 'This', 'Is', 'An', 'Example', 'Of', 'Splitting', 'At', 'Uppercase', 'Letters']\n"
     ]
    }
   ],
   "source": [
    "import re\n",
    "def split_at_uppercase(text):\n",
    "    pattern = re.compile(r'(?=[A-Z])')\n",
    "    result = pattern.split(text)\n",
    "    return result\n",
    "input_text = \"ThisIsAnExampleOfSplittingAtUppercaseLetters\"\n",
    "result = split_at_uppercase(input_text)\n",
    "print(result)\n",
    "\n",
    "\n",
    "\n",
    "\n"
   ]
  },
  {
   "cell_type": "code",
   "execution_count": 39,
   "id": "978f910f",
   "metadata": {},
   "outputs": [
    {
     "name": "stdout",
     "output_type": "stream",
     "text": [
      "This2 is3 an4 example5 with6 numbers7 and8 words\n"
     ]
    }
   ],
   "source": [
    "import re\n",
    "def insert_spaces_between_numbers_and_words(text):\n",
    "    result = re.sub(r'(\\d)([a-zA-Z])', r'\\1 \\2', text)\n",
    "    return result\n",
    "input_text = \"This2is3an4example5with6numbers7and8words\"\n",
    "result = insert_spaces_between_numbers_and_words(input_text)\n",
    "print(result)\n",
    "\n",
    "\n",
    "\n"
   ]
  },
  {
   "cell_type": "code",
   "execution_count": 40,
   "id": "88708446",
   "metadata": {},
   "outputs": [
    {
     "name": "stdout",
     "output_type": "stream",
     "text": [
      "This Is An Example With Numbers 1 2 3 And Words Like Python 3 Code\n"
     ]
    }
   ],
   "source": [
    "import re\n",
    "def insert_spaces(text):\n",
    "    result = re.sub(r'(?<=[a-z0-9])(?=[A-Z0-9])', ' ', text)\n",
    "    return result\n",
    "input_text = \"ThisIsAnExampleWithNumbers123AndWordsLikePython3Code\"\n",
    "result = insert_spaces(input_text)\n",
    "print(result)\n",
    "\n",
    "\n",
    "\n",
    "\n"
   ]
  },
  {
   "cell_type": "code",
   "execution_count": 45,
   "id": "028fb559",
   "metadata": {},
   "outputs": [
    {
     "ename": "NameError",
     "evalue": "name 'github_url' is not defined",
     "output_type": "error",
     "traceback": [
      "\u001b[1;31m---------------------------------------------------------------------------\u001b[0m",
      "\u001b[1;31mNameError\u001b[0m                                 Traceback (most recent call last)",
      "Cell \u001b[1;32mIn[45], line 3\u001b[0m\n\u001b[0;32m      1\u001b[0m \u001b[38;5;28;01mimport\u001b[39;00m \u001b[38;5;21;01mpandas\u001b[39;00m \u001b[38;5;28;01mas\u001b[39;00m \u001b[38;5;21;01mpd\u001b[39;00m\n\u001b[0;32m      2\u001b[0m \u001b[38;5;28;01mimport\u001b[39;00m \u001b[38;5;21;01mrequests\u001b[39;00m\n\u001b[1;32m----> 3\u001b[0m response \u001b[38;5;241m=\u001b[39m requests\u001b[38;5;241m.\u001b[39mget(github_url)\n\u001b[0;32m      4\u001b[0m \u001b[38;5;28;01mif\u001b[39;00m response\u001b[38;5;241m.\u001b[39mstatus_code \u001b[38;5;241m==\u001b[39m \u001b[38;5;241m200\u001b[39m:\n\u001b[0;32m      5\u001b[0m     data \u001b[38;5;241m=\u001b[39m response\u001b[38;5;241m.\u001b[39mcontent\u001b[38;5;241m.\u001b[39mdecode(\u001b[38;5;124m'\u001b[39m\u001b[38;5;124mutf-8\u001b[39m\u001b[38;5;124m'\u001b[39m)\n",
      "\u001b[1;31mNameError\u001b[0m: name 'github_url' is not defined"
     ]
    }
   ],
   "source": [
    "import pandas as pd\n",
    "import requests\n",
    "response = requests.get(github_url)\n",
    "if response.status_code == 200:\n",
    "    data = response.content.decode('utf-8')\n",
    "df = pd.read_csv(pd.compat.StringIO(data))\n",
    "df['first_six_letters'] = df['country'].str[:6]\n",
    "return df\n",
    "github_url = 'https://raw.githubusercontent.com/path/to/your/file.csv'\n",
    "df = create_dataframe_from_github(github_url)\n",
    "\n",
    "if df is not None:\n",
    "    print(df.head())\n",
    "\n",
    "\n",
    "\n",
    "\n",
    "\n"
   ]
  },
  {
   "cell_type": "code",
   "execution_count": 49,
   "id": "43f5c2c0",
   "metadata": {},
   "outputs": [
    {
     "name": "stdout",
     "output_type": "stream",
     "text": [
      "'valid_string_123': True\n",
      "'Invalid-String!': False\n",
      "'Another_valid_string': True\n",
      "'12345': True\n",
      "'with spaces': False\n"
     ]
    }
   ],
   "source": [
    "import re\n",
    "def is_valid_string(text):\n",
    "    pattern = re.compile(r'^[a-zA-Z0-9_]+$')\n",
    "    if pattern.fullmatch(text):\n",
    "        return True\n",
    "    else:\n",
    "        return False\n",
    "test_strings = [\"valid_string_123\", \"Invalid-String!\", \"Another_valid_string\", \"12345\", \"with spaces\"]\n",
    "\n",
    "for s in test_strings:\n",
    "    print(f\"'{s}': {is_valid_string(s)}\")\n",
    "    \n",
    "\n",
    "\n",
    "\n"
   ]
  },
  {
   "cell_type": "code",
   "execution_count": 53,
   "id": "00ae740e",
   "metadata": {},
   "outputs": [
    {
     "ename": "NameError",
     "evalue": "name 'specific_number' is not defined",
     "output_type": "error",
     "traceback": [
      "\u001b[1;31m---------------------------------------------------------------------------\u001b[0m",
      "\u001b[1;31mNameError\u001b[0m                                 Traceback (most recent call last)",
      "Cell \u001b[1;32mIn[53], line 12\u001b[0m\n\u001b[0;32m      9\u001b[0m test_strings \u001b[38;5;241m=\u001b[39m [\u001b[38;5;124m\"\u001b[39m\u001b[38;5;124m123abc\u001b[39m\u001b[38;5;124m\"\u001b[39m, \u001b[38;5;124m\"\u001b[39m\u001b[38;5;124mabc123\u001b[39m\u001b[38;5;124m\"\u001b[39m, \u001b[38;5;124m\"\u001b[39m\u001b[38;5;124m123456\u001b[39m\u001b[38;5;124m\"\u001b[39m, \u001b[38;5;124m\"\u001b[39m\u001b[38;5;124m456123\u001b[39m\u001b[38;5;124m\"\u001b[39m]\n\u001b[0;32m     11\u001b[0m \u001b[38;5;28;01mfor\u001b[39;00m s \u001b[38;5;129;01min\u001b[39;00m test_strings:\n\u001b[1;32m---> 12\u001b[0m     \u001b[38;5;28mprint\u001b[39m(\u001b[38;5;124mf\u001b[39m\u001b[38;5;124m\"\u001b[39m\u001b[38;5;124m'\u001b[39m\u001b[38;5;132;01m{\u001b[39;00ms\u001b[38;5;132;01m}\u001b[39;00m\u001b[38;5;124m'\u001b[39m\u001b[38;5;124m starts with \u001b[39m\u001b[38;5;132;01m{\u001b[39;00mspecific_number\u001b[38;5;132;01m}\u001b[39;00m\u001b[38;5;124m: \u001b[39m\u001b[38;5;132;01m{\u001b[39;00mstarts_with_number(s,\u001b[38;5;250m \u001b[39mspecific_number)\u001b[38;5;132;01m}\u001b[39;00m\u001b[38;5;124m\"\u001b[39m)\n",
      "\u001b[1;31mNameError\u001b[0m: name 'specific_number' is not defined"
     ]
    }
   ],
   "source": [
    "import re\n",
    "def starts_with_number(text, number):\n",
    "    pattern = re.compile(rf'^{number}')\n",
    "    if pattern.match(text):\n",
    "        return True\n",
    "    else:\n",
    "        return False\n",
    "    specific_number = 123\n",
    "test_strings = [\"123abc\", \"abc123\", \"123456\", \"456123\"]\n",
    "\n",
    "for s in test_strings:\n",
    "    print(f\"'{s}' starts with {specific_number}: {starts_with_number(s, specific_number)}\")\n",
    "        \n",
    "\n",
    "\n",
    "\n",
    "\n"
   ]
  },
  {
   "cell_type": "code",
   "execution_count": 54,
   "id": "0369587f",
   "metadata": {},
   "outputs": [
    {
     "name": "stdout",
     "output_type": "stream",
     "text": [
      "192.168.1.1\n"
     ]
    }
   ],
   "source": [
    "import re\n",
    "def remove_leading_zeros(ip_address):\n",
    "    pattern = re.compile(r'\\b0+(\\d)')\n",
    "    cleaned_ip = pattern.sub(r'\\1', ip_address)\n",
    "    return cleaned_ip\n",
    "ip_address = \"192.168.001.001\"\n",
    "cleaned_ip = remove_leading_zeros(ip_address)\n",
    "print(cleaned_ip)\n",
    "\n",
    "\n",
    "\n",
    "\n"
   ]
  },
  {
   "cell_type": "code",
   "execution_count": 55,
   "id": "9b01071d",
   "metadata": {},
   "outputs": [
    {
     "name": "stdout",
     "output_type": "stream",
     "text": [
      "[('15', '2022'), ('3', '1999'), ('31', '2021')]\n"
     ]
    }
   ],
   "source": [
    "import re\n",
    "def find_dates(text):\n",
    "    pattern = re.compile(r'(?:January|February|March|April|May|June|July|August|September|October|November|December)\\s+(\\d{1,2}),\\s+(\\d{4})')\n",
    "    dates = pattern.findall(text)\n",
    "    return dates\n",
    "text = \"\"\"\n",
    "I have a meeting on January 15, 2022.\n",
    "Her birthday is on February 3, 1999.\n",
    "The project deadline is March 31, 2021.\n",
    "\"\"\"\n",
    "\n",
    "dates = find_dates(text)\n",
    "print(dates)\n",
    "\n",
    "\n",
    "\n",
    "\n"
   ]
  },
  {
   "cell_type": "code",
   "execution_count": 58,
   "id": "15515553",
   "metadata": {},
   "outputs": [
    {
     "name": "stdout",
     "output_type": "stream",
     "text": [
      "'Python' found: True\n",
      "'world' found: True\n",
      "'Java' found: False\n",
      "'programming' found: True\n"
     ]
    }
   ],
   "source": [
    "import re\n",
    "\n",
    "def search_literals_with_re(main_string, literals):\n",
    "    results = {}\n",
    "    for literal in literals:\n",
    "        pattern = re.compile(re.escape(literal))\n",
    "        if pattern.search(main_string):\n",
    "            results[literal] = True\n",
    "        else:\n",
    "            results[literal] = False\n",
    "    return results\n",
    "main_string = \"Hello, welcome to the world of Python programming.\"\n",
    "literals = [\"Python\", \"world\", \"Java\", \"programming\"]\n",
    "\n",
    "results = search_literals_with_re(main_string, literals)\n",
    "for literal, found in results.items():\n",
    "    print(f\"'{literal}' found: {found}\")"
   ]
  },
  {
   "cell_type": "code",
   "execution_count": 59,
   "id": "60c92c07",
   "metadata": {},
   "outputs": [
    {
     "name": "stdout",
     "output_type": "stream",
     "text": [
      "'Python' found at index 31\n"
     ]
    }
   ],
   "source": [
    "import re\n",
    "\n",
    "def search_literal_with_re(main_string, literal):\n",
    "    pattern = re.compile(re.escape(literal))\n",
    "    match = pattern.search(main_string)\n",
    "    if match:\n",
    "        return match.start()\n",
    "    else:\n",
    "        return None\n",
    "    main_string = \"Hello, welcome to the world of Python programming.\"\n",
    "literal = \"Python\"\n",
    "\n",
    "index = search_literal_with_re(main_string, literal)\n",
    "if index is not None:\n",
    "    print(f\"'{literal}' found at index {index}\")\n",
    "else:\n",
    "    print(f\"'{literal}' not found in the string\")"
   ]
  },
  {
   "cell_type": "code",
   "execution_count": 60,
   "id": "7414ce9f",
   "metadata": {},
   "outputs": [
    {
     "name": "stdout",
     "output_type": "stream",
     "text": [
      "All substrings:\n",
      "a\n",
      "ab\n",
      "abc\n",
      "b\n",
      "bc\n",
      "c\n"
     ]
    }
   ],
   "source": [
    "def find_substrings(main_string):\n",
    "    substrings = []\n",
    "    length = len(main_string)\n",
    "    \n",
    "    # Generate all possible substrings\n",
    "    for start in range(length):\n",
    "        for end in range(start + 1, length + 1):\n",
    "            substrings.append(main_string[start:end])\n",
    "    \n",
    "    return substrings\n",
    "main_string = \"abc\"\n",
    "substrings = find_substrings(main_string)\n",
    "print(\"All substrings:\")\n",
    "for substring in substrings:\n",
    "    print(substring)\n"
   ]
  },
  {
   "cell_type": "code",
   "execution_count": 61,
   "id": "d223931d",
   "metadata": {},
   "outputs": [
    {
     "name": "stdout",
     "output_type": "stream",
     "text": [
      "The substring 'abc' occurs at positions: [2, 5]\n"
     ]
    }
   ],
   "source": [
    "import re\n",
    "\n",
    "def find_occurrences_with_re(main_string, substring):\n",
    "    positions = []\n",
    "    pattern = re.compile(re.escape(substring))      \n",
    "    for match in pattern.finditer(main_string):\n",
    "        positions.append(match.start())   \n",
    "    return positions\n",
    "main_string = \"ababcabc\"\n",
    "substring = \"abc\"\n",
    "positions = find_occurrences_with_re(main_string, substring)\n",
    "if positions:\n",
    "    print(f\"The substring '{substring}' occurs at positions: {positions}\")\n",
    "else:\n",
    "    print(f\"The substring '{substring}' is not found in the main string.\")\n"
   ]
  },
  {
   "cell_type": "code",
   "execution_count": 62,
   "id": "ce27752b",
   "metadata": {},
   "outputs": [
    {
     "name": "stdout",
     "output_type": "stream",
     "text": [
      "Original date: 2024-06-29\n",
      "Converted date: 29-06-2024\n"
     ]
    }
   ],
   "source": [
    "from datetime import datetime\n",
    "def convert_date_format(date_string):\n",
    "    date_object = datetime.strptime(date_string, '%Y-%m-%d')\n",
    "    formatted_date = date_object.strftime('%d-%m-%Y')\n",
    "    return formatted_date\n",
    "input_date = \"2024-06-29\"\n",
    "output_date = convert_date_format(input_date)\n",
    "print(f\"Original date: {input_date}\")\n",
    "print(f\"Converted date: {output_date}\")\n",
    "\n",
    "\n",
    "\n",
    "\n"
   ]
  },
  {
   "cell_type": "code",
   "execution_count": 63,
   "id": "38cd5848",
   "metadata": {},
   "outputs": [
    {
     "name": "stdout",
     "output_type": "stream",
     "text": [
      "['1.23', '45.6', '78.90', '0.99']\n"
     ]
    }
   ],
   "source": [
    "import re\n",
    "pattern = re.compile(r'\\d+\\.\\d{1,2}')\n",
    "def find_decimal_numbers(text):\n",
    "    matches = pattern.findall(text)\n",
    "    return matches\n",
    "text = \"Here are some numbers: 1.23, 45.6, 78.901, and 0.99.\"\n",
    "decimal_numbers = find_decimal_numbers(text)\n",
    "print(decimal_numbers)\n"
   ]
  },
  {
   "cell_type": "code",
   "execution_count": 69,
   "id": "1cbe6b1c",
   "metadata": {},
   "outputs": [
    {
     "name": "stdout",
     "output_type": "stream",
     "text": [
      "Number: 1, Position: 23\n",
      "Number: 23, Position: 25\n",
      "Number: 45, Position: 29\n",
      "Number: 6, Position: 32\n",
      "Number: 78, Position: 35\n",
      "Number: 901, Position: 38\n",
      "Number: 0, Position: 47\n",
      "Number: 99, Position: 49\n"
     ]
    }
   ],
   "source": [
    "import re\n",
    "def find_numbers_with_positions(text):\n",
    "    pattern = re.compile(r'\\d+')\n",
    "    matches = pattern.finditer(text)\n",
    "    for match in matches:\n",
    "        number = match.group()\n",
    "        position = match.start()\n",
    "        print(f\"Number: {number}, Position: {position}\")\n",
    "        text = \"There are 3 cats, 12 dogs, and 45 birds.\"\n",
    "find_numbers_with_positions(text)"
   ]
  },
  {
   "cell_type": "code",
   "execution_count": 70,
   "id": "cc737c52",
   "metadata": {},
   "outputs": [
    {
     "name": "stdout",
     "output_type": "stream",
     "text": [
      "The maximum numeric value is: 987\n"
     ]
    }
   ],
   "source": [
    "import re\n",
    "def find_max_numeric_value(text):\n",
    "    pattern = re.compile(r'\\d+')\n",
    "    matches = pattern.findall(text)\n",
    "    numeric_values = [int(match) for match in matches]\n",
    "    if numeric_values:\n",
    "        max_value = max(numeric_values)\n",
    "        return max_value\n",
    "    else:\n",
    "        return None\n",
    "text = \"The numbers are 42, 123, and 9 in this string. Also 987 and 56.\"\n",
    "max_value = find_max_numeric_value(text)\n",
    "print(f\"The maximum numeric value is: {max_value}\")"
   ]
  },
  {
   "cell_type": "code",
   "execution_count": 71,
   "id": "2175bab9",
   "metadata": {},
   "outputs": [
    {
     "name": "stdout",
     "output_type": "stream",
     "text": [
      "Original Text: ThisIsAStringWithCapitalWords\n",
      "Modified Text: This Is AString With Capital Words\n"
     ]
    }
   ],
   "source": [
    "import re\n",
    "def insert_spaces_between_capitals(text):\n",
    "    pattern = re.compile(r'([a-z\\d])([A-Z])')\n",
    "    modified_text = re.sub(pattern, r'\\1 \\2', text)   \n",
    "    return modified_text\n",
    "text = \"ThisIsAStringWithCapitalWords\"\n",
    "modified_text = insert_spaces_between_capitals(text)\n",
    "print(\"Original Text:\", text)\n",
    "print(\"Modified Text:\", modified_text)"
   ]
  },
  {
   "cell_type": "code",
   "execution_count": 72,
   "id": "caa80a30",
   "metadata": {},
   "outputs": [
    {
     "name": "stdout",
     "output_type": "stream",
     "text": [
      "Matches found:\n",
      "This\n",
      "Is\n",
      "Test\n",
      "With\n",
      "Some\n",
      "Uppercase\n",
      "Words\n",
      "Lowercase\n",
      "Words\n"
     ]
    }
   ],
   "source": [
    "import re\n",
    "def find_uppercase_followed_by_lowercase(text):\n",
    "    pattern = re.compile(r'([A-Z][a-z]+)')\n",
    "    matches = pattern.findall(text)    \n",
    "    return matches\n",
    "text = \"This Is a Test string With Some Uppercase Words and Lowercase Words\"\n",
    "matches = find_uppercase_followed_by_lowercase(text)\n",
    "print(\"Matches found:\")\n",
    "for match in matches:\n",
    "    print(match)"
   ]
  },
  {
   "cell_type": "code",
   "execution_count": 73,
   "id": "2e2bb403",
   "metadata": {},
   "outputs": [
    {
     "name": "stdout",
     "output_type": "stream",
     "text": [
      "Original Sentence: Python is is a great language language language for for for data data data data data data analysis analysis.\n",
      "Modified Sentence: Python is a great language for data analysis.\n"
     ]
    }
   ],
   "source": [
    "import re\n",
    "def remove_continuous_duplicates(sentence):\n",
    "    pattern = re.compile(r'\\b(\\w+)(\\s+\\b\\1\\b)+')\n",
    "    modified_sentence = re.sub(pattern, r'\\1', sentence)    \n",
    "    return modified_sentence\n",
    "sentence = \"Python is is a great language language language for for for data data data data data data analysis analysis.\"\n",
    "modified_sentence = remove_continuous_duplicates(sentence)\n",
    "print(\"Original Sentence:\", sentence)\n",
    "print(\"Modified Sentence:\", modified_sentence)"
   ]
  },
  {
   "cell_type": "code",
   "execution_count": 74,
   "id": "7deb4bab",
   "metadata": {},
   "outputs": [
    {
     "name": "stdout",
     "output_type": "stream",
     "text": [
      "Does 'Hello123' end with an alphanumeric character? False\n",
      "Does 'Test!@' end with an alphanumeric character? False\n",
      "Does 'Python3_' end with an alphanumeric character? False\n"
     ]
    }
   ],
   "source": [
    "import re\n",
    "def ends_with_alphanumeric(string):\n",
    "    pattern = re.compile(r'\\w$')\n",
    "    match = re.match(pattern, string)\n",
    "    return bool(match)\n",
    "string1 = \"Hello123\"\n",
    "string2 = \"Test!@\"\n",
    "string3 = \"Python3_\"\n",
    "print(f\"Does '{string1}' end with an alphanumeric character? {ends_with_alphanumeric(string1)}\")\n",
    "print(f\"Does '{string2}' end with an alphanumeric character? {ends_with_alphanumeric(string2)}\")\n",
    "print(f\"Does '{string3}' end with an alphanumeric character? {ends_with_alphanumeric(string3)}\")"
   ]
  },
  {
   "cell_type": "code",
   "execution_count": 75,
   "id": "980cbe95",
   "metadata": {},
   "outputs": [
    {
     "name": "stdout",
     "output_type": "stream",
     "text": [
      "Extracted Hashtags: ['#awesome', '#datascience', '#machinelearning']\n"
     ]
    }
   ],
   "source": [
    "import re\n",
    "def extract_hashtags(text):\n",
    "    pattern = re.compile(r'#\\w+')\n",
    "    hashtags = pattern.findall(text)    \n",
    "    return hashtags\n",
    "text = \"Check out this #awesome Python library for #datascience and #machinelearning!\"\n",
    "hashtags = extract_hashtags(text)\n",
    "print(\"Extracted Hashtags:\", hashtags)"
   ]
  },
  {
   "cell_type": "code",
   "execution_count": 76,
   "id": "d6dc1b12",
   "metadata": {},
   "outputs": [
    {
     "name": "stdout",
     "output_type": "stream",
     "text": [
      "Original Text: This is a text with symbols like <U+0041>, <U+0062>, and <U+1F600>.\n",
      "Modified Text: This is a text with symbols like , , and .\n"
     ]
    }
   ],
   "source": [
    "import re\n",
    "def remove_u_plus_symbols(text):\n",
    "    pattern = re.compile(r'<U\\+[0-9A-Fa-f]+>')\n",
    "    modified_text = re.sub(pattern, '', text)    \n",
    "    return modified_text\n",
    "text = \"This is a text with symbols like <U+0041>, <U+0062>, and <U+1F600>.\"\n",
    "modified_text = remove_u_plus_symbols(text)\n",
    "print(\"Original Text:\", text)\n",
    "print(\"Modified Text:\", modified_text)"
   ]
  },
  {
   "cell_type": "code",
   "execution_count": 77,
   "id": "f37aa7d7",
   "metadata": {},
   "outputs": [
    {
     "name": "stdout",
     "output_type": "stream",
     "text": [
      "Error: The file 'sample_text.txt' was not found.\n",
      "No dates found.\n"
     ]
    }
   ],
   "source": [
    "import re\n",
    "def extract_dates_from_file(filename):\n",
    "    pattern = re.compile(r'\\b\\d{1,2}[-/]\\d{1,2}[-/]\\d{4}\\b|\\b\\d{4}[-/]\\d{1,2}[-/]\\d{1,2}\\b')   \n",
    "    try:\n",
    "        with open(filename, 'r') as file:\n",
    "            text = file.read()\n",
    "            dates = pattern.findall(text)           \n",
    "            return dates\n",
    "    except FileNotFoundError:\n",
    "        print(f\"Error: The file '{filename}' was not found.\")\n",
    "filename = 'sample_text.txt'\n",
    "dates = extract_dates_from_file(filename)\n",
    "if dates:\n",
    "    print(f\"Dates found in '{filename}':\")\n",
    "    for date in dates:\n",
    "        print(date)\n",
    "else:\n",
    "    print(\"No dates found.\")"
   ]
  },
  {
   "cell_type": "code",
   "execution_count": 78,
   "id": "d770be01",
   "metadata": {},
   "outputs": [
    {
     "name": "stdout",
     "output_type": "stream",
     "text": [
      "Original Text: This is a sample text with words of various lengths like cat, dog, bird, elephant, tree.\n",
      "Filtered Text: a sample   words  various lengths  , , , elephant, .\n"
     ]
    }
   ],
   "source": [
    "import re\n",
    "def remove_words_length_2_to_4(text):\n",
    "    pattern = re.compile(r'\\b\\w{2,4}\\b')\n",
    "    modified_text = re.sub(pattern, '', text)    \n",
    "    return modified_text.strip() \n",
    "text = \"This is a sample text with words of various lengths like cat, dog, bird, elephant, tree.\"\n",
    "filtered_text = remove_words_length_2_to_4(text)\n",
    "print(\"Original Text:\", text)\n",
    "print(\"Filtered Text:\", filtered_text)"
   ]
  },
  {
   "cell_type": "code",
   "execution_count": null,
   "id": "7bd9734d",
   "metadata": {},
   "outputs": [],
   "source": []
  }
 ],
 "metadata": {
  "kernelspec": {
   "display_name": "Python 3 (ipykernel)",
   "language": "python",
   "name": "python3"
  },
  "language_info": {
   "codemirror_mode": {
    "name": "ipython",
    "version": 3
   },
   "file_extension": ".py",
   "mimetype": "text/x-python",
   "name": "python",
   "nbconvert_exporter": "python",
   "pygments_lexer": "ipython3",
   "version": "3.11.5"
  }
 },
 "nbformat": 4,
 "nbformat_minor": 5
}
